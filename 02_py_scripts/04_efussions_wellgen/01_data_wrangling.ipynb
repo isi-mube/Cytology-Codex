{
 "cells": [
  {
   "cell_type": "markdown",
   "id": "0888cfb5-91f0-4d92-a708-cce7b2d5b112",
   "metadata": {},
   "source": [
    "<h1 style=\"color: #00BFFF;\">00 |</h1>"
   ]
  },
  {
   "cell_type": "code",
   "execution_count": 1,
   "id": "47c21736-1bff-4ec8-9383-b8d38a239584",
   "metadata": {},
   "outputs": [],
   "source": [
    "# 📚 Basic libraries\n",
    "import os # file managment\n",
    "import numpy as np # image array manipulation\n",
    "import pandas as pd # data manipulation\n",
    "import matplotlib.pyplot as plt #  plots and visualizations\n",
    "\n",
    "# 🛠️ Tools\n",
    "import warnings # who likes warnings?\n",
    "import shutil # High-level file operations\n",
    "import random # to generate random samples\n",
    "\n",
    "# 🌐 Computer Vision - Data Augmentation\n",
    "import cv2 # computer vision library, in this case to check white values\n",
    "from tensorflow.keras.preprocessing.image import ImageDataGenerator # real-time data augmentation\n",
    "from tensorflow.keras.utils import img_to_array, array_to_img, load_img # saving augmented Data"
   ]
  },
  {
   "cell_type": "code",
   "execution_count": 2,
   "id": "1f0cda84-cf74-40e1-a959-91dafd18874c",
   "metadata": {},
   "outputs": [],
   "source": [
    "# ⚙️ Settings\n",
    "warnings.filterwarnings('ignore') # ignore warnings"
   ]
  },
  {
   "cell_type": "code",
   "execution_count": 29,
   "id": "d8c1329e-a6a9-4d12-a941-89d839d29fdc",
   "metadata": {},
   "outputs": [],
   "source": [
    "# 🎯 Specific functions\n",
    "def move_files(original_dir, target_dir, ratio): # moving unique files to test folder. just run it once\n",
    "    filenames = os.listdir(original_dir) # file names in the original directory\n",
    "    filenames = [os.path.join(original_dir, f) for f in filenames if f.endswith('.png') or f.endswith('.jpg')]\n",
    "    random.shuffle(filenames) # Shuffle the file names\n",
    "    num_files_to_move = int(len(filenames) * ratio) # number of files to move\n",
    "    \n",
    "    for filename in filenames[:num_files_to_move]: # Move the files\n",
    "        shutil.move(filename, target_dir)\n",
    "        \n",
    "def augment_images(data_dir, datagen, num_images=2):\n",
    "    for filename in os.listdir(data_dir):\n",
    "        if filename.endswith(\".jpg\"):  \n",
    "            img_path = os.path.join(data_dir, filename)\n",
    "            img_array = img_to_array(load_img(img_path)) # converting the image to numpy array\n",
    "            img_array = img_array.reshape((1,) + img_array.shape) # Reshape the data\n",
    "\n",
    "            # Generate new images\n",
    "            for i, _ in enumerate(datagen.flow(img_array, batch_size=1, save_to_dir=data_dir, save_prefix='aug', save_format='png')):\n",
    "                if i >= num_images - 1:\n",
    "                    break"
   ]
  },
  {
   "cell_type": "markdown",
   "id": "57e25b33-6651-4a73-9541-59b531bc03d1",
   "metadata": {
    "tags": []
   },
   "source": [
    "<h1 style=\"color: #00BFFF;\">01 | Data Extraction</h1>"
   ]
  },
  {
   "cell_type": "code",
   "execution_count": 4,
   "id": "aaf5521e-60e2-492c-b028-e93bae7a4f8c",
   "metadata": {},
   "outputs": [],
   "source": [
    "data_path = os.path.join('C:\\\\Users\\\\apisi\\\\01. IronData\\\\01. GitHub\\\\03. Projects\\\\08_cells_at_work', '01_data')\n",
    "\n",
    "effusions = os.path.join(data_path, '04_efussions_wellgen')"
   ]
  },
  {
   "cell_type": "markdown",
   "id": "f8c127be-54e7-48ae-a65b-301e91469f59",
   "metadata": {
    "tags": []
   },
   "source": [
    "<h1 style=\"color: #00BFFF;\">02 | Data Cleaning</h1>"
   ]
  },
  {
   "cell_type": "markdown",
   "id": "76540373-3849-4e29-844d-8e797f1eef91",
   "metadata": {
    "tags": []
   },
   "source": [
    "<h3 style=\"color: #008080;\">Train, Validation & Test directories</h3>"
   ]
  },
  {
   "cell_type": "code",
   "execution_count": 5,
   "id": "bc67ea4c-71c5-48ad-9e1e-39bd028d5eb1",
   "metadata": {},
   "outputs": [],
   "source": [
    "# new directories for the images\n",
    "train_dir = os.path.join(effusions, \"01_train\")\n",
    "val_dir = os.path.join(effusions, \"02_validation\")\n",
    "test_dir = os.path.join(effusions, \"03_test\")\n",
    "\n",
    "# creating the new directories, making sure to not overwrite them if they already exist\n",
    "os.makedirs(train_dir, exist_ok=True)\n",
    "os.makedirs(val_dir, exist_ok=True)\n",
    "os.makedirs(test_dir, exist_ok=True)"
   ]
  },
  {
   "cell_type": "markdown",
   "id": "ecef2df3-edec-4ed5-8ddf-f105a7025a0a",
   "metadata": {
    "tags": []
   },
   "source": [
    "<h3 style=\"color: #008080;\">Diagnoses (labels) directories for Train, Validation & Test</h3>"
   ]
  },
  {
   "cell_type": "code",
   "execution_count": 6,
   "id": "bc54ad47-c3b1-4a0c-b6df-43483d3f08ae",
   "metadata": {},
   "outputs": [],
   "source": [
    "# New directories for training\n",
    "train_positive = os.path.join(train_dir, \"Positive\")\n",
    "train_negative = os.path.join(train_dir, \"Negative\")\n",
    "\n",
    "# Creating the new directories, making sure to not overwrite them if they already exist\n",
    "os.makedirs(train_positive, exist_ok=True)\n",
    "os.makedirs(train_negative, exist_ok=True)\n",
    "\n",
    "# New directories for validation\n",
    "val_positive = os.path.join(val_dir, \"Positive\")\n",
    "val_negative = os.path.join(val_dir, \"Negative\")\n",
    "\n",
    "# Creating the new directories, making sure to not overwrite them if they already exist\n",
    "os.makedirs(val_positive, exist_ok=True)\n",
    "os.makedirs(val_negative, exist_ok=True)\n",
    "\n",
    "# New directories for test\n",
    "test_positive = os.path.join(test_dir, \"Positive\")\n",
    "test_negative = os.path.join(test_dir, \"Negative\")\n",
    "\n",
    "# Creating the new directories, making sure to not overwrite them if they already exist\n",
    "os.makedirs(test_positive, exist_ok=True)\n",
    "os.makedirs(test_negative, exist_ok=True)"
   ]
  },
  {
   "cell_type": "markdown",
   "id": "d84e12f3-b7aa-4878-b553-7cfd0bc33a7b",
   "metadata": {},
   "source": [
    "Now we have 3 directories for Training, Validation and Testing.\n",
    "Each directory, contains an empty folder with the diagnose.\n",
    "* In order to get bigger representation of the Data, we will agument it synthetically using ImageDataGenerator from Keras.\n",
    "* Firstly, we will perform some quick EDA, since not all images are good for the Model (they contain too many white background and not enough cells informations)"
   ]
  },
  {
   "cell_type": "markdown",
   "id": "c88bb7f2-3cfd-42f1-8911-078ff3f3f3f2",
   "metadata": {
    "tags": []
   },
   "source": [
    "<h1 style=\"color: #00BFFF;\">03 | EDA</h1>"
   ]
  },
  {
   "cell_type": "code",
   "execution_count": 8,
   "id": "1c980142-3fdc-47d6-b46c-833d98e36819",
   "metadata": {},
   "outputs": [],
   "source": [
    "# creating a new directory for white background images\n",
    "white_background_dir = os.path.join(effusions, \"white_background\")\n",
    "os.makedirs(white_background_dir, exist_ok=True)"
   ]
  },
  {
   "cell_type": "code",
   "execution_count": 9,
   "id": "78c1a1e9-ff72-4517-aa0d-001211f0f090",
   "metadata": {},
   "outputs": [],
   "source": [
    "# Positive and Negative subdirectories inside white_background_dir\n",
    "positive_white_background_dir = os.path.join(white_background_dir, \"Positive\")\n",
    "negative_white_background_dir = os.path.join(white_background_dir, \"Negative\")\n",
    "os.makedirs(positive_white_background_dir, exist_ok=True)\n",
    "os.makedirs(negative_white_background_dir, exist_ok=True)"
   ]
  },
  {
   "cell_type": "code",
   "execution_count": 10,
   "id": "89e7491b-cf68-4c00-bb5b-05c5a6f26615",
   "metadata": {},
   "outputs": [],
   "source": [
    "# Positive and Negative directories\n",
    "positive = os.path.join(effusions, 'Positive')\n",
    "negative = os.path.join(effusions, 'Negative')"
   ]
  },
  {
   "cell_type": "code",
   "execution_count": 21,
   "id": "6ccba90c-f5cb-4b1f-bb7c-41dbcb97fd0f",
   "metadata": {},
   "outputs": [],
   "source": [
    "directories = [(positive, positive_white_background_dir), (negative, negative_white_background_dir)]\n",
    "threshold = 0.95  # threshold"
   ]
  },
  {
   "cell_type": "code",
   "execution_count": 22,
   "id": "165ed581-c50e-4c8a-a189-3fe80103370f",
   "metadata": {},
   "outputs": [],
   "source": [
    "for directory, white_background_subdir in directories:\n",
    "    for filename in os.listdir(directory):\n",
    "        if filename.endswith(('.jpg', '.png')):\n",
    "            img = cv2.imread(os.path.join(directory, filename), 0) # converting it to grayscale\n",
    "            white_pixels = np.sum(img > 190)  # count of white or near-white pixels\n",
    "            total_pixels = np.product(img.shape)  # total count of pixels\n",
    "\n",
    "            if white_pixels / total_pixels > threshold:  # Proportion of white or near-white pixels\n",
    "                shutil.move(os.path.join(directory, filename), os.path.join(white_background_subdir, filename))"
   ]
  },
  {
   "cell_type": "markdown",
   "id": "e1ce8aff-356a-4e72-81d8-84efd67bc377",
   "metadata": {
    "tags": []
   },
   "source": [
    "<h3 style=\"color: #008080;\">Unique cytology images for Test</h3>"
   ]
  },
  {
   "cell_type": "markdown",
   "id": "7e93da8b-282f-417d-a68f-17d2510cd400",
   "metadata": {},
   "source": [
    "Just run it once !"
   ]
  },
  {
   "cell_type": "code",
   "execution_count": 23,
   "id": "d731504b-d896-461c-8b85-70e01d4f86f7",
   "metadata": {},
   "outputs": [],
   "source": [
    "classes = ['Positive', 'Negative']\n",
    "\n",
    "for class_name in classes:\n",
    "    original = os.path.join(effusions, class_name)\n",
    "    test_dir_move = os.path.join(test_dir, class_name)\n",
    "    \n",
    "    os.makedirs(test_dir, exist_ok=True)\n",
    "    \n",
    "    move_files(original, test_dir_move, ratio=0.15)"
   ]
  },
  {
   "cell_type": "markdown",
   "id": "1b834480-a52a-405a-be04-1ec654085d4c",
   "metadata": {
    "tags": []
   },
   "source": [
    "<h3 style=\"color: #008080;\">Training and Validation split</h3>"
   ]
  },
  {
   "cell_type": "markdown",
   "id": "2fb3cbf6-7392-42c1-a5ce-c236510e041a",
   "metadata": {},
   "source": [
    "Just run it once"
   ]
  },
  {
   "cell_type": "code",
   "execution_count": 24,
   "id": "da8efc22-cf50-4b7a-9ec2-bf10c07d5520",
   "metadata": {
    "jp-MarkdownHeadingCollapsed": true,
    "tags": []
   },
   "outputs": [],
   "source": [
    "# Specify the classes and corresponding directories\n",
    "classes = ['Positive', 'Negative']\n",
    "\n",
    "# Mapping training and validation for each class\n",
    "train_dirs = [train_positive, train_negative]\n",
    "val_dirs = [val_positive, val_negative]\n",
    "\n",
    "for class_name, train_dir, val_dir in zip(classes, train_dirs, val_dirs):\n",
    "    original_dir = os.path.join(effusions, class_name)\n",
    "\n",
    "    all_files = os.listdir(original_dir) # list of all files\n",
    "    random.shuffle(all_files) # shuffling files\n",
    "    split_idx = int(len(all_files) * 0.7) # index to split training-validation\n",
    "\n",
    "    # training-validation split\n",
    "    train_images = all_files[:split_idx]\n",
    "    val_images = all_files[split_idx:]\n",
    "\n",
    "    # copying images to their new training directory\n",
    "    for image_file in train_images:\n",
    "        source = os.path.join(original_dir, image_file)\n",
    "        dest = os.path.join(train_dir, image_file)\n",
    "        shutil.copyfile(source, dest)\n",
    "\n",
    "    # copying images to their new validation directory\n",
    "    for image_file in val_images:\n",
    "        source = os.path.join(original_dir, image_file)\n",
    "        dest = os.path.join(val_dir, image_file)\n",
    "        shutil.copyfile(source, dest)"
   ]
  },
  {
   "cell_type": "markdown",
   "id": "2062c812-e990-4c0e-a5f0-926eb95e16b7",
   "metadata": {
    "tags": []
   },
   "source": [
    "<h1 style=\"color: #00BFFF;\">04 | Data Pre-Processing</h1>"
   ]
  },
  {
   "cell_type": "markdown",
   "id": "85815b39-cd6a-4d84-a6c3-f729d0d5f222",
   "metadata": {
    "tags": []
   },
   "source": [
    "<h3 style=\"color: #008080;\">Performing Data Aumgnetation</h3>"
   ]
  },
  {
   "cell_type": "code",
   "execution_count": 25,
   "id": "697c0608-fd05-41ca-8da5-551e906cb7d6",
   "metadata": {},
   "outputs": [],
   "source": [
    "# Parameters\n",
    "datagen = ImageDataGenerator(\n",
    "    rescale=1.0/255,  # normalizes pixel values to [0, 1]\n",
    "    rotation_range=30, # cells can appear at any orientation\n",
    "    width_shift_range=.15, # cells can be located anywhere\n",
    "    height_shift_range=.15, # same as before, but vertically\n",
    "    horizontal_flip=True, # cell orientation doesn't matter\n",
    "    vertical_flip=True, # cell orientation doesn't matter\n",
    "    brightness_range=[0.5, 1.5],  # simulates variable lighting/staining\n",
    "    zoom_range=0.2  # simulates variable cell sizes/distances\n",
    ")"
   ]
  },
  {
   "cell_type": "code",
   "execution_count": 30,
   "id": "5c239de1-e58c-4ca4-b184-c589ba96a3a6",
   "metadata": {},
   "outputs": [],
   "source": [
    "# using augment_images function\n",
    "for train_dir, val_dir in zip(train_dirs, val_dirs):\n",
    "    augment_images(train_dir, datagen, num_images=2)\n",
    "    augment_images(val_dir, datagen, num_images=2)"
   ]
  }
 ],
 "metadata": {
  "kernelspec": {
   "display_name": "Python 3 (ipykernel)",
   "language": "python",
   "name": "python3"
  },
  "language_info": {
   "codemirror_mode": {
    "name": "ipython",
    "version": 3
   },
   "file_extension": ".py",
   "mimetype": "text/x-python",
   "name": "python",
   "nbconvert_exporter": "python",
   "pygments_lexer": "ipython3",
   "version": "3.9.13"
  }
 },
 "nbformat": 4,
 "nbformat_minor": 5
}
