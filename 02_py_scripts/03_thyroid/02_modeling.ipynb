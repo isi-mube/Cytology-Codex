{
 "cells": [
  {
   "cell_type": "markdown",
   "id": "8f8ad151-ff90-4d8a-a439-5b3f96ccbb44",
   "metadata": {},
   "source": [
    "<h1 style=\"color: #00BFFF;\">00 |</h1>"
   ]
  },
  {
   "cell_type": "code",
   "execution_count": 1,
   "id": "c53d50fd-b96e-4461-ac3c-94ffa70062dc",
   "metadata": {},
   "outputs": [],
   "source": [
    "# 📚 Basic libraries\n",
    "import os # file managment\n",
    "import numpy as np # image array manipulation\n",
    "import pandas as pd # data manipulation\n",
    "import matplotlib.pyplot as plt #  plots and visualizations\n",
    "import seaborn as sns \n",
    "from PIL import Image # image data visualization module from Python Imaging Library\n",
    "\n",
    "# 🛠️ Tools\n",
    "import warnings # who likes warnings?\n",
    "\n",
    "# 🌐 Computer Vision\n",
    "import tensorflow as tf # machine learning and neural networks\n",
    "from tensorflow import keras # deep learning and neural networks\n",
    "from tensorflow.keras import layers # layers for neural networks\n",
    "from tensorflow.keras.preprocessing.image import ImageDataGenerator # real-time data augmentation\n",
    "from tensorflow.keras.preprocessing import image # functions for image preprocessing\n",
    "\n",
    "# 📈 Metrics report\n",
    "from sklearn.metrics import classification_report, confusion_matrix, ConfusionMatrixDisplay # metrics for model evaluation and visualization"
   ]
  },
  {
   "cell_type": "code",
   "execution_count": 2,
   "id": "3927232e-cb06-4195-810f-db4a7bed60ca",
   "metadata": {},
   "outputs": [],
   "source": [
    "# ⚙️ Settings\n",
    "warnings.filterwarnings('ignore') # ignore warnings"
   ]
  },
  {
   "cell_type": "code",
   "execution_count": 3,
   "id": "14d4e527-55b7-408b-9dad-a35539aace42",
   "metadata": {},
   "outputs": [],
   "source": [
    "# 🎯 Specific functions\n",
    "def make_model(input_shape): # adapting a previous CNN\n",
    "    inputs = keras.Input(shape=input_shape)\n",
    "\n",
    "    x = layers.Conv2D(32, (3, 3), activation='relu')(inputs)\n",
    "    x = layers.MaxPooling2D((2, 2))(x)\n",
    "\n",
    "    x = layers.Conv2D(64, (3, 3), activation='relu')(x)\n",
    "    x = layers.MaxPooling2D((2, 2))(x)\n",
    "\n",
    "    x = layers.Conv2D(128, (1, 1), activation='relu')(x)\n",
    "    x = layers.MaxPooling2D((2, 2))(x)\n",
    "\n",
    "    x = layers.Conv2D(256, (2, 2), activation='relu')(x)\n",
    "    x = layers.MaxPooling2D((2, 2))(x)\n",
    "\n",
    "    x = layers.Flatten()(x)\n",
    "    x = layers.Dense(512, activation='relu')(x)\n",
    "    x = layers.Dense(256, activation='relu')(x)\n",
    "    x = layers.Dense(1, activation='sigmoid')(x)\n",
    "\n",
    "    return keras.Model(inputs, x)"
   ]
  },
  {
   "cell_type": "markdown",
   "id": "6b751be6-5cd8-469d-9160-8d49565d5fa1",
   "metadata": {
    "tags": []
   },
   "source": [
    "<h1 style=\"color: #00BFFF;\">01 | Data Extraction</h1>"
   ]
  },
  {
   "cell_type": "code",
   "execution_count": 4,
   "id": "6cb97827-0c9a-4005-a190-cae95707c1ab",
   "metadata": {},
   "outputs": [],
   "source": [
    "data_path = os.path.join('C:\\\\Users\\\\apisi\\\\01. IronData\\\\01. GitHub\\\\03. Projects\\\\08_cells_at_work', '01_data')\n",
    "\n",
    "thyroid = os.path.join(data_path, '03_thyroid')\n",
    "\n",
    "# Directories for the subsets\n",
    "train_dir = os.path.join(thyroid, \"01_train\")\n",
    "val_dir = os.path.join(thyroid, \"02_validation\")\n",
    "test_dir = os.path.join(thyroid, \"03_test\")"
   ]
  },
  {
   "cell_type": "markdown",
   "id": "44de4240-25fa-4f89-b8c9-720cdd8b1930",
   "metadata": {
    "tags": []
   },
   "source": [
    "<h1 style=\"color: #00BFFF;\">04 | Modeling</h1>"
   ]
  },
  {
   "cell_type": "markdown",
   "id": "ef05f3ae-ed39-446f-8f69-cf8a207220b2",
   "metadata": {
    "tags": []
   },
   "source": [
    "<h3 style=\"color: #008080;\">Fine-Tunning the Model</h3>"
   ]
  },
  {
   "cell_type": "code",
   "execution_count": 5,
   "id": "acd756e8-526a-4ee2-96cc-2b7c7211cc46",
   "metadata": {},
   "outputs": [],
   "source": [
    "# Parameters that we can fine-tune later on\n",
    "img_height = 256   \n",
    "img_width = 256   \n",
    "image_size = (img_height, img_width)\n",
    "batch_size = 128 # using the same as in the tutorial, training utilized in each iteration"
   ]
  },
  {
   "cell_type": "markdown",
   "id": "47a38f9b-ad5c-49c5-9225-5511eb36a0f6",
   "metadata": {
    "tags": []
   },
   "source": [
    "<h3 style=\"color: #008080;\">Performing Data Aumgnetation</h3>"
   ]
  },
  {
   "cell_type": "code",
   "execution_count": 6,
   "id": "6c339318-3100-48c7-a173-7ba20bf82597",
   "metadata": {},
   "outputs": [],
   "source": [
    "# Parameters (this time, without saving the synhetic data\n",
    "datagen = ImageDataGenerator(\n",
    "    rescale=1.0/255,  # normalizes pixel values to [0, 1]\n",
    "    rotation_range=30, # cells can appear at any orientation\n",
    "    width_shift_range=.15, # cells can be located anywhere\n",
    "    height_shift_range=.15, # same as before, but vertically\n",
    "    horizontal_flip=True, # cell orientation doesn't matter\n",
    "    vertical_flip=True, # cell orientation doesn't matter\n",
    "    brightness_range=[0.5, 1.5],  # simulates variable lighting/staining\n",
    "    zoom_range=0.2  # simulates variable cell sizes/distances\n",
    ")"
   ]
  },
  {
   "cell_type": "markdown",
   "id": "05e1b6d6-ef7a-4910-a24c-fc575da1bf6e",
   "metadata": {},
   "source": [
    "<h3 style=\"color: #008080;\">Train and validation data</h3>"
   ]
  },
  {
   "cell_type": "code",
   "execution_count": 7,
   "id": "fbd95dc7-9635-40d5-87de-f7550dd5eb01",
   "metadata": {},
   "outputs": [
    {
     "name": "stdout",
     "output_type": "stream",
     "text": [
      "Found 590 images belonging to 2 classes.\n",
      "Found 258 images belonging to 2 classes.\n"
     ]
    }
   ],
   "source": [
    "# Loading training data\n",
    "train_ds = datagen.flow_from_directory(\n",
    "    train_dir, # training directory\n",
    "    seed=1337,\n",
    "    target_size=image_size,\n",
    "    batch_size=batch_size,\n",
    "    class_mode='binary'\n",
    ")\n",
    "\n",
    "# Loading validation data\n",
    "val_ds = datagen.flow_from_directory(\n",
    "    val_dir, # validation directory\n",
    "    seed=1337,\n",
    "    target_size=image_size,\n",
    "    batch_size=batch_size,\n",
    "    class_mode='binary' \n",
    ")"
   ]
  },
  {
   "cell_type": "markdown",
   "id": "ca2bd158-4760-46dd-9b85-eacf4118087c",
   "metadata": {
    "tags": []
   },
   "source": [
    "<h3 style=\"color: #008080;\">Building our Model</h3>"
   ]
  },
  {
   "cell_type": "code",
   "execution_count": 8,
   "id": "af439d6d-4b5f-4ca3-aecb-5802caea9750",
   "metadata": {},
   "outputs": [],
   "source": [
    "model = make_model(input_shape=image_size + (3,))  # Image size + 3 channels of colors"
   ]
  },
  {
   "cell_type": "markdown",
   "id": "1acbc0df-db1b-4737-9f08-e58bbb49dbfd",
   "metadata": {
    "tags": []
   },
   "source": [
    "<h3 style=\"color: #008080;\">Compiling the Model</h3>"
   ]
  },
  {
   "cell_type": "code",
   "execution_count": 9,
   "id": "65898369-b529-4c62-9bc5-ebae7074f49e",
   "metadata": {},
   "outputs": [],
   "source": [
    "model.compile(\n",
    "    optimizer=keras.optimizers.Adamax(learning_rate=0.001),\n",
    "    loss=\"binary_crossentropy\",  # changed from 'binary_crossentropy' to 'categorical_crossentropy'\n",
    "    metrics=[\"accuracy\"],\n",
    ")"
   ]
  },
  {
   "cell_type": "code",
   "execution_count": 10,
   "id": "b38976ff-70ab-4415-9ba5-3f039f79a11e",
   "metadata": {},
   "outputs": [],
   "source": [
    "checkpoints = os.path.join(thyroid, \"00_epochs\", \"save_at_{epoch}.keras\")"
   ]
  },
  {
   "cell_type": "code",
   "execution_count": null,
   "id": "0010affe-9bfc-44ce-b3ad-9582ea56522b",
   "metadata": {},
   "outputs": [
    {
     "name": "stdout",
     "output_type": "stream",
     "text": [
      "Epoch 1/30\n",
      "5/5 [==============================] - 215s 44s/step - loss: 1.7546 - accuracy: 0.5034 - val_loss: 0.6891 - val_accuracy: 0.5078\n",
      "Epoch 2/30\n",
      "5/5 [==============================] - 200s 41s/step - loss: 0.6766 - accuracy: 0.4915 - val_loss: 0.6419 - val_accuracy: 0.5194\n",
      "Epoch 3/30\n",
      "5/5 [==============================] - 216s 41s/step - loss: 0.6163 - accuracy: 0.7322 - val_loss: 0.5330 - val_accuracy: 0.8876\n",
      "Epoch 4/30\n",
      "5/5 [==============================] - ETA: 0s - loss: 0.4989 - accuracy: 0.8119 "
     ]
    }
   ],
   "source": [
    "epochs = 30\n",
    "\n",
    "callbacks = [\n",
    "    keras.callbacks.ModelCheckpoint(checkpoints),\n",
    "]\n",
    "\n",
    "# training with callbacks\n",
    "hist = model.fit(\n",
    "    train_ds, \n",
    "    epochs=epochs, \n",
    "    validation_data=val_ds,\n",
    "    callbacks=callbacks,\n",
    ")"
   ]
  },
  {
   "cell_type": "markdown",
   "id": "7cd8c21b-22e9-43ed-8a04-d1759123f488",
   "metadata": {
    "tags": []
   },
   "source": [
    "<h1 style=\"color: #00BFFF;\">05 | Model Validation</h1>"
   ]
  },
  {
   "cell_type": "markdown",
   "id": "91461f74-b181-416f-8bf7-7787e037ede0",
   "metadata": {
    "tags": []
   },
   "source": [
    "<h3 style=\"color: #008080;\">Model Loss</h3>"
   ]
  },
  {
   "cell_type": "code",
   "execution_count": null,
   "id": "98944273-f674-4523-8436-628997f2b347",
   "metadata": {},
   "outputs": [],
   "source": [
    "fig = plt.figure()\n",
    "plt.plot(hist.history['loss'], color='teal', label='loss')\n",
    "plt.plot(hist.history['val_loss'], color='orange', label='val_loss')\n",
    "fig.suptitle('Loss', fontsize=20)\n",
    "plt.legend(loc=\"upper left\")\n",
    "plt.show()"
   ]
  },
  {
   "cell_type": "markdown",
   "id": "fdb90a09-0682-4fcf-8658-69008a83ad99",
   "metadata": {
    "tags": []
   },
   "source": [
    "<h3 style=\"color: #008080;\">Model Accuracy</h3>"
   ]
  },
  {
   "cell_type": "code",
   "execution_count": null,
   "id": "403a89f1-9a76-47ac-b277-a2ce6d9fb249",
   "metadata": {},
   "outputs": [],
   "source": [
    "fig = plt.figure()\n",
    "plt.plot(hist.history['accuracy'], color='teal', label='accuracy')\n",
    "plt.plot(hist.history['val_accuracy'], color='orange', label='val_accuracy')\n",
    "fig.suptitle('Accuracy', fontsize=20)\n",
    "plt.legend(loc=\"upper left\")\n",
    "plt.show()"
   ]
  },
  {
   "cell_type": "markdown",
   "id": "437557f5-2ae4-4c90-9d76-6c2c8b406f6b",
   "metadata": {
    "tags": []
   },
   "source": [
    "<h3 style=\"color: #008080;\">Loading the best epoch</h3>"
   ]
  },
  {
   "cell_type": "code",
   "execution_count": 14,
   "id": "b5c23596-1377-4556-a4a1-6421753913da",
   "metadata": {},
   "outputs": [],
   "source": [
    "checkpoint_path = os.path.join(thyroid, \"00_epochs\", \"save_at_30.keras\")\n",
    "model.load_weights(checkpoint_path)"
   ]
  },
  {
   "cell_type": "markdown",
   "id": "1062190d-075a-408f-8fbb-fee005d0e489",
   "metadata": {
    "tags": []
   },
   "source": [
    "<h3 style=\"color: #00BFFF;\">Confussion Matrix</h3>"
   ]
  },
  {
   "cell_type": "code",
   "execution_count": 15,
   "id": "a532e3ff-2696-468a-bec8-af36815ca863",
   "metadata": {},
   "outputs": [
    {
     "name": "stdout",
     "output_type": "stream",
     "text": [
      "12/12 [==============================] - 114s 9s/step\n"
     ]
    },
    {
     "data": {
      "image/png": "[encoded data removed]",
      "text/plain": [
       "<Figure size 500x500 with 2 Axes>"
      ]
     },
     "metadata": {},
     "output_type": "display_data"
    },
    {
     "name": "stdout",
     "output_type": "stream",
     "text": [
      "                          precision    recall  f1-score      support\n",
      "acinar_carcinoma           0.296296  0.284932  0.290503   365.000000\n",
      "adenoid_cystic_carcinoma   0.228426  0.256410  0.241611   351.000000\n",
      "pleomorphic_adenoma        0.249284  0.243017  0.246110   358.000000\n",
      "warthin_tumor              0.240964  0.227273  0.233918   352.000000\n",
      "accuracy                   0.253156  0.253156  0.253156     0.253156\n",
      "macro avg                  0.253743  0.252908  0.253035  1426.000000\n",
      "weighted avg               0.254129  0.253156  0.253356  1426.000000\n"
     ]
    }
   ],
   "source": [
    "# true labels\n",
    "true_labels = val_ds.classes\n",
    "\n",
    "# predictions\n",
    "predictions = model.predict(val_ds)\n",
    "pred_labels = (predictions > 0.5).astype(\"int32\")  # classify as 0 or 1 based on threshold\n",
    "\n",
    "# compute the confusion matrix\n",
    "cm = confusion_matrix(true_labels, pred_labels)\n",
    "\n",
    "# class names\n",
    "class_names = list(val_ds.class_indices.keys())\n",
    "\n",
    "# plot the confusion matrix\n",
    "fig, ax = plt.subplots(figsize=(5, 5))  # Increase the size of the figure\n",
    "disp = ConfusionMatrixDisplay(confusion_matrix=cm, display_labels=class_names)\n",
    "disp.plot(ax=ax, cmap='Blues', xticks_rotation='vertical')\n",
    "plt.show()\n",
    "\n",
    "sns.set(font_scale=1.5)\n",
    "report = classification_report(true_labels, pred_labels, target_names=class_names, output_dict=True)\n",
    "df_report = pd.DataFrame(report).transpose()\n",
    "\n",
    "# report as a dataframe\n",
    "print(df_report)"
   ]
  },
  {
   "cell_type": "markdown",
   "id": "ecd5ef4a-10e7-4d79-b7da-3441dc291994",
   "metadata": {
    "tags": []
   },
   "source": [
    "<h3 style=\"color: #00BFFF;\">Testing the Model Vs Unseen Data</h3>"
   ]
  },
  {
   "cell_type": "code",
   "execution_count": 16,
   "id": "ec98a8e4-1bff-411b-8774-38462d457f18",
   "metadata": {},
   "outputs": [
    {
     "name": "stdout",
     "output_type": "stream",
     "text": [
      "1/1 [==============================] - 0s 146ms/step\n",
      "The model predicts this image as: acinar_carcinoma with 100.00% confidence\n"
     ]
    }
   ],
   "source": [
    "# testing a chronic thyroiditis image\n",
    "rel_img_path = 'chronic_thyroiditis/IB00024.svs [0] (45).png' # relative path\n",
    "img_path = os.path.join(test_dir, rel_img_path) # complete path\n",
    "\n",
    "# load and preprocess the image\n",
    "img = image.load_img(img_path, target_size=(256, 256))\n",
    "img_array = np.expand_dims(image.img_to_array(img), axis=0)\n",
    "\n",
    "# predictions\n",
    "predictions = model.predict(img_array)\n",
    "class_idx = np.argmax(predictions[0])  # class with highest probability\n",
    "class_prob = predictions[0][class_idx]\n",
    "\n",
    "# class label and confidence\n",
    "class_label = {v: k for k, v in train_ds.class_indices.items()}[class_idx]\n",
    "print(f\"The model predicts this image as: {class_label} with {class_prob*100:.2f}% confidence\")"
   ]
  },
  {
   "cell_type": "code",
   "execution_count": 17,
   "id": "7ae73817-2ca2-4c34-8299-b320d0b8c206",
   "metadata": {},
   "outputs": [
    {
     "name": "stdout",
     "output_type": "stream",
     "text": [
      "1/1 [==============================] - 0s 44ms/step\n",
      "The model predicts this image as: adenoid_cystic_carcinoma with 100.00% confidence\n"
     ]
    }
   ],
   "source": [
    "# testing a papillary carcinoma image\n",
    "rel_img_path2 = 'papillary_carcinoma/IB00063.svs [0] (10).png' # relative path\n",
    "img_path2 = os.path.join(test_dir, rel_img_path2) # complete path\n",
    "\n",
    "# load and preprocess the image\n",
    "img2 = image.load_img(img_path2, target_size=(256, 256))\n",
    "img_array2 = np.expand_dims(image.img_to_array(img2), axis=0)\n",
    "\n",
    "# predictions\n",
    "predictions2 = model.predict(img_array2)\n",
    "class_idx2 = np.argmax(predictions2[0])  #ç class with highest probability\n",
    "class_prob2 = predictions2[0][class_idx2]\n",
    "\n",
    "# class label and confidence\n",
    "class_label2 = {v: k for k, v in train_ds.class_indices.items()}[class_idx2]\n",
    "print(f\"The model predicts this image as: {class_label2} with {class_prob2*100:.2f}% confidence\")"
   ]
  }
 ],
 "metadata": {
  "kernelspec": {
   "display_name": "Python 3 (ipykernel)",
   "language": "python",
   "name": "python3"
  },
  "language_info": {
   "codemirror_mode": {
    "name": "ipython",
    "version": 3
   },
   "file_extension": ".py",
   "mimetype": "text/x-python",
   "name": "python",
   "nbconvert_exporter": "python",
   "pygments_lexer": "ipython3",
   "version": "3.9.13"
  }
 },
 "nbformat": 4,
 "nbformat_minor": 5
}
